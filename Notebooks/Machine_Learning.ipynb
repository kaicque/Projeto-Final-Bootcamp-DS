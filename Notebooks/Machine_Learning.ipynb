{
  "nbformat": 4,
  "nbformat_minor": 0,
  "metadata": {
    "colab": {
      "name": "Machine Learning.ipynb",
      "provenance": [],
      "collapsed_sections": [],
      "authorship_tag": "ABX9TyPyZ7TqAuFy2F7EvkY2V/IG",
      "include_colab_link": true
    },
    "kernelspec": {
      "name": "python3",
      "display_name": "Python 3"
    },
    "language_info": {
      "name": "python"
    }
  },
  "cells": [
    {
      "cell_type": "markdown",
      "metadata": {
        "id": "view-in-github",
        "colab_type": "text"
      },
      "source": [
        "<a href=\"https://colab.research.google.com/github/kaicque/Projeto-Final-Bootcamp-DS/blob/main/Notebooks/Machine_Learning.ipynb\" target=\"_parent\"><img src=\"https://colab.research.google.com/assets/colab-badge.svg\" alt=\"Open In Colab\"/></a>"
      ]
    },
    {
      "cell_type": "markdown",
      "metadata": {
        "id": "06E8ffQ4R0Y4"
      },
      "source": [
        "# Instalação de pacotes"
      ]
    },
    {
      "cell_type": "code",
      "metadata": {
        "colab": {
          "base_uri": "https://localhost:8080/",
          "height": 697
        },
        "id": "DLsT38lKP3iV",
        "outputId": "412c0863-944d-49b2-a57b-7626188d0866"
      },
      "source": [
        "!pip install lazypredict"
      ],
      "execution_count": null,
      "outputs": [
        {
          "output_type": "stream",
          "text": [
            "Requirement already satisfied: lazypredict in /usr/local/lib/python3.7/dist-packages (0.2.9)\n",
            "Requirement already satisfied: joblib==1.0.0 in /usr/local/lib/python3.7/dist-packages (from lazypredict) (1.0.0)\n",
            "Requirement already satisfied: PyYAML==5.3.1 in /usr/local/lib/python3.7/dist-packages (from lazypredict) (5.3.1)\n",
            "Requirement already satisfied: six==1.15.0 in /usr/local/lib/python3.7/dist-packages (from lazypredict) (1.15.0)\n",
            "Requirement already satisfied: click==7.1.2 in /usr/local/lib/python3.7/dist-packages (from lazypredict) (7.1.2)\n",
            "Requirement already satisfied: tqdm==4.56.0 in /usr/local/lib/python3.7/dist-packages (from lazypredict) (4.56.0)\n",
            "Collecting scikit-learn==0.23.1\n",
            "  Using cached scikit_learn-0.23.1-cp37-cp37m-manylinux1_x86_64.whl (6.8 MB)\n",
            "Requirement already satisfied: lightgbm==2.3.1 in /usr/local/lib/python3.7/dist-packages (from lazypredict) (2.3.1)\n",
            "Requirement already satisfied: xgboost==1.1.1 in /usr/local/lib/python3.7/dist-packages (from lazypredict) (1.1.1)\n",
            "Requirement already satisfied: numpy==1.19.1 in /usr/local/lib/python3.7/dist-packages (from lazypredict) (1.19.1)\n",
            "Requirement already satisfied: pandas==1.0.5 in /usr/local/lib/python3.7/dist-packages (from lazypredict) (1.0.5)\n",
            "Requirement already satisfied: scipy==1.5.4 in /usr/local/lib/python3.7/dist-packages (from lazypredict) (1.5.4)\n",
            "Requirement already satisfied: pytest==5.4.3 in /usr/local/lib/python3.7/dist-packages (from lazypredict) (5.4.3)\n",
            "Requirement already satisfied: pytz>=2017.2 in /usr/local/lib/python3.7/dist-packages (from pandas==1.0.5->lazypredict) (2018.9)\n",
            "Requirement already satisfied: python-dateutil>=2.6.1 in /usr/local/lib/python3.7/dist-packages (from pandas==1.0.5->lazypredict) (2.8.1)\n",
            "Requirement already satisfied: pluggy<1.0,>=0.12 in /usr/local/lib/python3.7/dist-packages (from pytest==5.4.3->lazypredict) (0.13.1)\n",
            "Requirement already satisfied: importlib-metadata>=0.12 in /usr/local/lib/python3.7/dist-packages (from pytest==5.4.3->lazypredict) (4.6.1)\n",
            "Requirement already satisfied: packaging in /usr/local/lib/python3.7/dist-packages (from pytest==5.4.3->lazypredict) (21.0)\n",
            "Requirement already satisfied: more-itertools>=4.0.0 in /usr/local/lib/python3.7/dist-packages (from pytest==5.4.3->lazypredict) (8.8.0)\n",
            "Requirement already satisfied: py>=1.5.0 in /usr/local/lib/python3.7/dist-packages (from pytest==5.4.3->lazypredict) (1.10.0)\n",
            "Requirement already satisfied: attrs>=17.4.0 in /usr/local/lib/python3.7/dist-packages (from pytest==5.4.3->lazypredict) (21.2.0)\n",
            "Requirement already satisfied: wcwidth in /usr/local/lib/python3.7/dist-packages (from pytest==5.4.3->lazypredict) (0.2.5)\n",
            "Requirement already satisfied: threadpoolctl>=2.0.0 in /usr/local/lib/python3.7/dist-packages (from scikit-learn==0.23.1->lazypredict) (2.2.0)\n",
            "Requirement already satisfied: typing-extensions>=3.6.4 in /usr/local/lib/python3.7/dist-packages (from importlib-metadata>=0.12->pytest==5.4.3->lazypredict) (3.7.4.3)\n",
            "Requirement already satisfied: zipp>=0.5 in /usr/local/lib/python3.7/dist-packages (from importlib-metadata>=0.12->pytest==5.4.3->lazypredict) (3.5.0)\n",
            "Requirement already satisfied: pyparsing>=2.0.2 in /usr/local/lib/python3.7/dist-packages (from packaging->pytest==5.4.3->lazypredict) (2.4.7)\n",
            "Installing collected packages: scikit-learn\n",
            "  Attempting uninstall: scikit-learn\n",
            "    Found existing installation: scikit-learn 0.24.2\n",
            "    Uninstalling scikit-learn-0.24.2:\n",
            "      Successfully uninstalled scikit-learn-0.24.2\n",
            "\u001b[31mERROR: pip's dependency resolver does not currently take into account all the packages that are installed. This behaviour is the source of the following dependency conflicts.\n",
            "imbalanced-learn 0.8.0 requires scikit-learn>=0.24, but you have scikit-learn 0.23.1 which is incompatible.\u001b[0m\n",
            "Successfully installed scikit-learn-0.23.1\n"
          ],
          "name": "stdout"
        },
        {
          "output_type": "display_data",
          "data": {
            "application/vnd.colab-display-data+json": {
              "pip_warning": {
                "packages": [
                  "sklearn"
                ]
              }
            }
          },
          "metadata": {
            "tags": []
          }
        }
      ]
    },
    {
      "cell_type": "code",
      "metadata": {
        "id": "2FxJX0EUP8XV"
      },
      "source": [
        "!pip install featurewiz"
      ],
      "execution_count": null,
      "outputs": []
    },
    {
      "cell_type": "code",
      "metadata": {
        "id": "jwyH5ghqleP7"
      },
      "source": [
        "!pip install yellowbrick"
      ],
      "execution_count": null,
      "outputs": []
    },
    {
      "cell_type": "markdown",
      "metadata": {
        "id": "ZmA_UmGkR3g5"
      },
      "source": [
        "#Importação das bibliotecas usadas"
      ]
    },
    {
      "cell_type": "code",
      "metadata": {
        "id": "9zZ5FnNmnbg2"
      },
      "source": [
        "import pandas as pd\n",
        "import numpy as np\n",
        "import matplotlib.pyplot as plt\n",
        "import seaborn as sns\n",
        "from sklearn.model_selection import train_test_split\n",
        "from sklearn.model_selection import cross_validate\n",
        "from sklearn.model_selection import StratifiedKFold\n",
        "from sklearn.model_selection import RepeatedStratifiedKFold\n",
        "from sklearn.metrics import plot_confusion_matrix\n",
        "from sklearn.metrics import classification_report\n",
        "from sklearn.metrics import accuracy_score\n",
        "from sklearn.metrics import roc_auc_score\n",
        "from sklearn.metrics import plot_roc_curve #,roc_curve\n",
        "from sklearn.ensemble import ExtraTreesClassifier\n",
        "from sklearn.linear_model import LogisticRegression\n",
        "from lazypredict.Supervised import LazyClassifier, LazyRegressor\n",
        "from featurewiz import featurewiz\n",
        "from xgboost import XGBClassifier\n",
        "import warnings\n",
        "warnings.filterwarnings('ignore')\n"
      ],
      "execution_count": null,
      "outputs": []
    },
    {
      "cell_type": "markdown",
      "metadata": {
        "id": "n0tAfNFnR6xD"
      },
      "source": [
        "# Criação de funções para facilitar o desenvolver do estudo"
      ]
    },
    {
      "cell_type": "code",
      "metadata": {
        "id": "Bv5D3NwSUE1c"
      },
      "source": [
        "## Definindo função para automatizar a verificação da acuracia e AUC (Area Under the Curve)\n",
        "def  testa_acuracia(modelo, dados):\n",
        "\n",
        "  # Definindo seed para o exercicio ser replicável\n",
        "  np.random.seed(76538) \n",
        "\n",
        "  #Definindo parametro de dados\n",
        "  y = dados[\"ICU\"]\n",
        "  x = dados.drop([\"ICU\"], axis=1)\n",
        "\n",
        "  #Separando dados de treino e teste\n",
        "  x_train, x_test, y_train, y_test = train_test_split(x, y, stratify=y, test_size=0.15)\n",
        " \n",
        "  #Rodando o modelo\n",
        "  modelo.fit(x_train,y_train)\n",
        "\n",
        "  #calculo dos scores\n",
        "  predicao = modelo.predict(x_test)\n",
        "  prob_predic = modelo.predict_proba(x_test)\n",
        "  auc = roc_auc_score(y_test, prob_predic[:,1])\n",
        "\n",
        "  #exibindo resultados\n",
        "  print(f\"A acurácia do Modelo é de: {(accuracy_score(y_test, predicao))*100 :.2f} %\")\n",
        "  print(f\"A AUC é {auc :4f}\")\n",
        "  print(\"\\nClassification Report do modelo:\")\n",
        "  print(classification_report(y_test,predicao))"
      ],
      "execution_count": null,
      "outputs": []
    },
    {
      "cell_type": "code",
      "metadata": {
        "id": "E0QTsBr9fQj9"
      },
      "source": [
        "# Função para plotar a matriz de confusão de forma padronizada\n",
        "def matriz_confusao(modelo,dados):\n",
        "\n",
        "  # Definindo seed para o exercicio ser replicável\n",
        "  np.random.seed(76538)\n",
        "\n",
        "  #Definindo x e y\n",
        "  x = dados.drop(['ICU'], axis=1) \n",
        "  y= dados['ICU']\n",
        "\n",
        "  #Separando os dados em treino e teste\n",
        "  x_train, x_test, y_train, y_test = train_test_split(x, y, stratify=y, test_size=0.15)\n",
        " \n",
        "  #Rodando o modelo \n",
        "  modelo.fit(x_train,y_train)\n",
        "\n",
        "  #Predição\n",
        "  predicao_dados = modelo.predict(x_test)\n",
        "\n",
        "  #Plotando a matriz de confusão\n",
        "  fig, ax = plt.subplots(figsize=(7,7))\n",
        "  plot_confusion_matrix(modelo, x_test, y_test, normalize='true',ax=ax, display_labels=['Não precisa \\n de internação','Precisa de \\ninternação'], cmap=plt.cm.Greens)\n",
        "  ax.set_title(\"Matriz de Confusão\", fontsize=16, fontweight=\"heavy\")\n",
        "  ax.set_xlabel(\"Previsão\", fontsize=18)\n",
        "  ax.set_ylabel(\"Fato\", fontsize=18)\n",
        "  plt.grid(False)\n",
        "  plt.show()"
      ],
      "execution_count": null,
      "outputs": []
    },
    {
      "cell_type": "code",
      "metadata": {
        "id": "6kNrKok5dbUC"
      },
      "source": [
        "## Definindo função para automatizar a cross validation e exibindo seu score médio do modelo\n",
        "def  cross_validation(modelo, dados,n_splits,n_repeats):\n",
        "\n",
        "  # Definindo seed para o exercicio ser replicável\n",
        "  np.random.seed(76538)\n",
        "  #Definindo parametro de dados  \n",
        "  y = dados[\"ICU\"]\n",
        "  x = dados.drop([\"ICU\"], axis=1)\n",
        "\n",
        "  # Função para embaralhar o dataset e evitar uma possível tendência\n",
        "  dados = dados.sample(frac=1).reset_index(drop=True)\n",
        "\n",
        "  #Repetição da separação dos dados de treino e teste \n",
        "  cv = RepeatedStratifiedKFold(n_splits = n_splits,n_repeats=n_repeats)\n",
        "  #Rodando o modelo \n",
        "  resultados = cross_validate(modelo, x,y,cv=cv,scoring='roc_auc',return_train_score=True)\n",
        "  \n",
        "  #calculo dos scores  \n",
        "  auc_medio = np.mean(resultados['test_score'])\n",
        "  auc_medio_treino = np.mean(resultados['train_score'])\n",
        "  auc_std = np.std(resultados['test_score'])\n",
        "\n",
        "  #exibição do resultado\n",
        "  print(f\"AUC médio é {auc_medio :4f} e o intervalo é {auc_medio-(2*auc_std) :4f} - {auc_medio+(2*auc_std) :4f}\")"
      ],
      "execution_count": null,
      "outputs": []
    },
    {
      "cell_type": "markdown",
      "metadata": {
        "id": "AIM-FlHvSAVp"
      },
      "source": [
        "#Importação dos dados"
      ]
    },
    {
      "cell_type": "code",
      "metadata": {
        "id": "HXFUXTRvnnuy",
        "colab": {
          "base_uri": "https://localhost:8080/",
          "height": 287
        },
        "outputId": "226105c8-bb5b-47ac-a677-895d1eee97a5"
      },
      "source": [
        "# Importando a planilha tratada, criando e visualizando o dataframe.\n",
        "dados = pd.read_excel('https://github.com/kaicque/Projeto-Final-Bootcamp-DS/raw/main/Dados/Tratado/dados_tratado.xlsx')\n",
        "dados.head()"
      ],
      "execution_count": null,
      "outputs": [
        {
          "output_type": "execute_result",
          "data": {
            "text/html": [
              "<div>\n",
              "<style scoped>\n",
              "    .dataframe tbody tr th:only-of-type {\n",
              "        vertical-align: middle;\n",
              "    }\n",
              "\n",
              "    .dataframe tbody tr th {\n",
              "        vertical-align: top;\n",
              "    }\n",
              "\n",
              "    .dataframe thead th {\n",
              "        text-align: right;\n",
              "    }\n",
              "</style>\n",
              "<table border=\"1\" class=\"dataframe\">\n",
              "  <thead>\n",
              "    <tr style=\"text-align: right;\">\n",
              "      <th></th>\n",
              "      <th>PATIENT_VISIT_IDENTIFIER</th>\n",
              "      <th>AGE_ABOVE65</th>\n",
              "      <th>AGE_PERCENTIL</th>\n",
              "      <th>GENDER</th>\n",
              "      <th>DISEASE GROUPING 1</th>\n",
              "      <th>DISEASE GROUPING 2</th>\n",
              "      <th>DISEASE GROUPING 3</th>\n",
              "      <th>DISEASE GROUPING 4</th>\n",
              "      <th>DISEASE GROUPING 5</th>\n",
              "      <th>DISEASE GROUPING 6</th>\n",
              "      <th>HTN</th>\n",
              "      <th>IMMUNOCOMPROMISED</th>\n",
              "      <th>OTHER</th>\n",
              "      <th>ALBUMIN_MEDIAN</th>\n",
              "      <th>ALBUMIN_DIFF</th>\n",
              "      <th>BE_ARTERIAL_MEDIAN</th>\n",
              "      <th>BE_ARTERIAL_DIFF</th>\n",
              "      <th>BE_VENOUS_MEDIAN</th>\n",
              "      <th>BE_VENOUS_DIFF</th>\n",
              "      <th>BIC_ARTERIAL_MEDIAN</th>\n",
              "      <th>BIC_ARTERIAL_DIFF</th>\n",
              "      <th>BIC_VENOUS_MEDIAN</th>\n",
              "      <th>BIC_VENOUS_DIFF</th>\n",
              "      <th>BILLIRUBIN_MEDIAN</th>\n",
              "      <th>BILLIRUBIN_DIFF</th>\n",
              "      <th>BLAST_MEDIAN</th>\n",
              "      <th>BLAST_DIFF</th>\n",
              "      <th>CALCIUM_MEDIAN</th>\n",
              "      <th>CALCIUM_DIFF</th>\n",
              "      <th>CREATININ_MEDIAN</th>\n",
              "      <th>CREATININ_DIFF</th>\n",
              "      <th>FFA_MEDIAN</th>\n",
              "      <th>FFA_DIFF</th>\n",
              "      <th>GGT_MEDIAN</th>\n",
              "      <th>GGT_DIFF</th>\n",
              "      <th>GLUCOSE_MEDIAN</th>\n",
              "      <th>GLUCOSE_DIFF</th>\n",
              "      <th>HEMATOCRITE_MEDIAN</th>\n",
              "      <th>HEMATOCRITE_DIFF</th>\n",
              "      <th>HEMOGLOBIN_DIFF</th>\n",
              "      <th>...</th>\n",
              "      <th>PH_ARTERIAL_DIFF</th>\n",
              "      <th>PH_VENOUS_MEDIAN</th>\n",
              "      <th>PH_VENOUS_DIFF</th>\n",
              "      <th>PLATELETS_MEDIAN</th>\n",
              "      <th>PLATELETS_DIFF</th>\n",
              "      <th>POTASSIUM_MEDIAN</th>\n",
              "      <th>POTASSIUM_DIFF</th>\n",
              "      <th>SAT02_ARTERIAL_MEDIAN</th>\n",
              "      <th>SAT02_ARTERIAL_DIFF</th>\n",
              "      <th>SAT02_VENOUS_MEDIAN</th>\n",
              "      <th>SAT02_VENOUS_DIFF</th>\n",
              "      <th>SODIUM_MEDIAN</th>\n",
              "      <th>SODIUM_DIFF</th>\n",
              "      <th>TGO_MEDIAN</th>\n",
              "      <th>TGO_DIFF</th>\n",
              "      <th>TGP_MEDIAN</th>\n",
              "      <th>TGP_DIFF</th>\n",
              "      <th>TTPA_MEDIAN</th>\n",
              "      <th>TTPA_DIFF</th>\n",
              "      <th>UREA_MEDIAN</th>\n",
              "      <th>UREA_DIFF</th>\n",
              "      <th>DIMER_MEDIAN</th>\n",
              "      <th>DIMER_DIFF</th>\n",
              "      <th>BLOODPRESSURE_DIASTOLIC_MEAN</th>\n",
              "      <th>BLOODPRESSURE_SISTOLIC_MEAN</th>\n",
              "      <th>HEART_RATE_MEAN</th>\n",
              "      <th>RESPIRATORY_RATE_MEAN</th>\n",
              "      <th>TEMPERATURE_MEAN</th>\n",
              "      <th>OXYGEN_SATURATION_MEAN</th>\n",
              "      <th>RESPIRATORY_RATE_MIN</th>\n",
              "      <th>BLOODPRESSURE_DIASTOLIC_MAX</th>\n",
              "      <th>BLOODPRESSURE_DIASTOLIC_DIFF</th>\n",
              "      <th>BLOODPRESSURE_SISTOLIC_DIFF</th>\n",
              "      <th>HEART_RATE_DIFF</th>\n",
              "      <th>RESPIRATORY_RATE_DIFF</th>\n",
              "      <th>TEMPERATURE_DIFF</th>\n",
              "      <th>OXYGEN_SATURATION_DIFF</th>\n",
              "      <th>HEART_RATE_DIFF_REL</th>\n",
              "      <th>WINDOW</th>\n",
              "      <th>ICU</th>\n",
              "    </tr>\n",
              "  </thead>\n",
              "  <tbody>\n",
              "    <tr>\n",
              "      <th>0</th>\n",
              "      <td>0</td>\n",
              "      <td>1</td>\n",
              "      <td>5</td>\n",
              "      <td>0</td>\n",
              "      <td>0</td>\n",
              "      <td>0</td>\n",
              "      <td>0</td>\n",
              "      <td>0</td>\n",
              "      <td>1</td>\n",
              "      <td>1</td>\n",
              "      <td>0</td>\n",
              "      <td>0</td>\n",
              "      <td>1</td>\n",
              "      <td>0.61</td>\n",
              "      <td>-1</td>\n",
              "      <td>-1.00</td>\n",
              "      <td>-1</td>\n",
              "      <td>-1.00</td>\n",
              "      <td>-1</td>\n",
              "      <td>-0.32</td>\n",
              "      <td>-1</td>\n",
              "      <td>-0.32</td>\n",
              "      <td>-1</td>\n",
              "      <td>-0.94</td>\n",
              "      <td>-1</td>\n",
              "      <td>-1.00</td>\n",
              "      <td>-1</td>\n",
              "      <td>0.18</td>\n",
              "      <td>-1</td>\n",
              "      <td>-0.87</td>\n",
              "      <td>-1</td>\n",
              "      <td>-0.74</td>\n",
              "      <td>-1</td>\n",
              "      <td>-0.95</td>\n",
              "      <td>-1</td>\n",
              "      <td>-0.89</td>\n",
              "      <td>-1</td>\n",
              "      <td>0.09</td>\n",
              "      <td>-1</td>\n",
              "      <td>-1</td>\n",
              "      <td>...</td>\n",
              "      <td>-1</td>\n",
              "      <td>0.36</td>\n",
              "      <td>-1</td>\n",
              "      <td>-0.54</td>\n",
              "      <td>-1</td>\n",
              "      <td>-0.52</td>\n",
              "      <td>-1</td>\n",
              "      <td>0.94</td>\n",
              "      <td>-1</td>\n",
              "      <td>0.35</td>\n",
              "      <td>-1</td>\n",
              "      <td>-0.03</td>\n",
              "      <td>-1</td>\n",
              "      <td>-1.00</td>\n",
              "      <td>-1</td>\n",
              "      <td>-0.99</td>\n",
              "      <td>-1</td>\n",
              "      <td>-0.83</td>\n",
              "      <td>-1</td>\n",
              "      <td>-0.84</td>\n",
              "      <td>-1</td>\n",
              "      <td>-0.99</td>\n",
              "      <td>-1</td>\n",
              "      <td>0.09</td>\n",
              "      <td>-0.23</td>\n",
              "      <td>-0.28</td>\n",
              "      <td>-0.59</td>\n",
              "      <td>-0.29</td>\n",
              "      <td>0.74</td>\n",
              "      <td>-0.50</td>\n",
              "      <td>-0.25</td>\n",
              "      <td>-1.00</td>\n",
              "      <td>-1.00</td>\n",
              "      <td>-1.00</td>\n",
              "      <td>-1.00</td>\n",
              "      <td>-1.00</td>\n",
              "      <td>-1.00</td>\n",
              "      <td>-1.00</td>\n",
              "      <td>0-2</td>\n",
              "      <td>1</td>\n",
              "    </tr>\n",
              "    <tr>\n",
              "      <th>1</th>\n",
              "      <td>2</td>\n",
              "      <td>0</td>\n",
              "      <td>0</td>\n",
              "      <td>0</td>\n",
              "      <td>0</td>\n",
              "      <td>0</td>\n",
              "      <td>0</td>\n",
              "      <td>0</td>\n",
              "      <td>0</td>\n",
              "      <td>0</td>\n",
              "      <td>0</td>\n",
              "      <td>0</td>\n",
              "      <td>1</td>\n",
              "      <td>0.61</td>\n",
              "      <td>-1</td>\n",
              "      <td>-1.00</td>\n",
              "      <td>-1</td>\n",
              "      <td>-1.00</td>\n",
              "      <td>-1</td>\n",
              "      <td>-0.32</td>\n",
              "      <td>-1</td>\n",
              "      <td>-0.32</td>\n",
              "      <td>-1</td>\n",
              "      <td>-0.94</td>\n",
              "      <td>-1</td>\n",
              "      <td>-1.00</td>\n",
              "      <td>-1</td>\n",
              "      <td>0.36</td>\n",
              "      <td>-1</td>\n",
              "      <td>-0.91</td>\n",
              "      <td>-1</td>\n",
              "      <td>-0.74</td>\n",
              "      <td>-1</td>\n",
              "      <td>-0.96</td>\n",
              "      <td>-1</td>\n",
              "      <td>-0.78</td>\n",
              "      <td>-1</td>\n",
              "      <td>0.14</td>\n",
              "      <td>-1</td>\n",
              "      <td>-1</td>\n",
              "      <td>...</td>\n",
              "      <td>-1</td>\n",
              "      <td>0.36</td>\n",
              "      <td>-1</td>\n",
              "      <td>-0.40</td>\n",
              "      <td>-1</td>\n",
              "      <td>-0.70</td>\n",
              "      <td>-1</td>\n",
              "      <td>0.94</td>\n",
              "      <td>-1</td>\n",
              "      <td>0.35</td>\n",
              "      <td>-1</td>\n",
              "      <td>0.09</td>\n",
              "      <td>-1</td>\n",
              "      <td>-1.00</td>\n",
              "      <td>-1</td>\n",
              "      <td>-0.99</td>\n",
              "      <td>-1</td>\n",
              "      <td>-0.85</td>\n",
              "      <td>-1</td>\n",
              "      <td>-0.84</td>\n",
              "      <td>-1</td>\n",
              "      <td>-0.98</td>\n",
              "      <td>-1</td>\n",
              "      <td>-0.49</td>\n",
              "      <td>-0.69</td>\n",
              "      <td>-0.05</td>\n",
              "      <td>-0.65</td>\n",
              "      <td>0.36</td>\n",
              "      <td>0.94</td>\n",
              "      <td>-0.71</td>\n",
              "      <td>-0.44</td>\n",
              "      <td>-0.55</td>\n",
              "      <td>-0.53</td>\n",
              "      <td>-0.60</td>\n",
              "      <td>-0.76</td>\n",
              "      <td>-1.00</td>\n",
              "      <td>-0.96</td>\n",
              "      <td>-0.75</td>\n",
              "      <td>0-2</td>\n",
              "      <td>1</td>\n",
              "    </tr>\n",
              "    <tr>\n",
              "      <th>2</th>\n",
              "      <td>3</td>\n",
              "      <td>0</td>\n",
              "      <td>3</td>\n",
              "      <td>1</td>\n",
              "      <td>0</td>\n",
              "      <td>0</td>\n",
              "      <td>0</td>\n",
              "      <td>0</td>\n",
              "      <td>0</td>\n",
              "      <td>0</td>\n",
              "      <td>0</td>\n",
              "      <td>1</td>\n",
              "      <td>1</td>\n",
              "      <td>-0.26</td>\n",
              "      <td>-1</td>\n",
              "      <td>-1.00</td>\n",
              "      <td>-1</td>\n",
              "      <td>-1.00</td>\n",
              "      <td>-1</td>\n",
              "      <td>-0.32</td>\n",
              "      <td>-1</td>\n",
              "      <td>-0.32</td>\n",
              "      <td>-1</td>\n",
              "      <td>-0.97</td>\n",
              "      <td>-1</td>\n",
              "      <td>-1.00</td>\n",
              "      <td>-1</td>\n",
              "      <td>0.33</td>\n",
              "      <td>-1</td>\n",
              "      <td>-0.97</td>\n",
              "      <td>-1</td>\n",
              "      <td>-0.19</td>\n",
              "      <td>-1</td>\n",
              "      <td>-0.32</td>\n",
              "      <td>-1</td>\n",
              "      <td>-0.89</td>\n",
              "      <td>-1</td>\n",
              "      <td>-0.20</td>\n",
              "      <td>-1</td>\n",
              "      <td>-1</td>\n",
              "      <td>...</td>\n",
              "      <td>-1</td>\n",
              "      <td>0.36</td>\n",
              "      <td>-1</td>\n",
              "      <td>-0.56</td>\n",
              "      <td>-1</td>\n",
              "      <td>-0.78</td>\n",
              "      <td>-1</td>\n",
              "      <td>0.94</td>\n",
              "      <td>-1</td>\n",
              "      <td>0.58</td>\n",
              "      <td>-1</td>\n",
              "      <td>0.20</td>\n",
              "      <td>-1</td>\n",
              "      <td>-0.99</td>\n",
              "      <td>-1</td>\n",
              "      <td>-0.96</td>\n",
              "      <td>-1</td>\n",
              "      <td>-0.85</td>\n",
              "      <td>-1</td>\n",
              "      <td>-0.94</td>\n",
              "      <td>-1</td>\n",
              "      <td>-0.98</td>\n",
              "      <td>-1</td>\n",
              "      <td>0.01</td>\n",
              "      <td>-0.37</td>\n",
              "      <td>-0.53</td>\n",
              "      <td>-0.46</td>\n",
              "      <td>-0.29</td>\n",
              "      <td>0.68</td>\n",
              "      <td>-0.36</td>\n",
              "      <td>-0.30</td>\n",
              "      <td>-1.00</td>\n",
              "      <td>-1.00</td>\n",
              "      <td>-1.00</td>\n",
              "      <td>-1.00</td>\n",
              "      <td>-1.00</td>\n",
              "      <td>-1.00</td>\n",
              "      <td>-1.00</td>\n",
              "      <td>0-2</td>\n",
              "      <td>0</td>\n",
              "    </tr>\n",
              "    <tr>\n",
              "      <th>3</th>\n",
              "      <td>4</td>\n",
              "      <td>0</td>\n",
              "      <td>0</td>\n",
              "      <td>0</td>\n",
              "      <td>0</td>\n",
              "      <td>0</td>\n",
              "      <td>0</td>\n",
              "      <td>0</td>\n",
              "      <td>0</td>\n",
              "      <td>0</td>\n",
              "      <td>0</td>\n",
              "      <td>0</td>\n",
              "      <td>1</td>\n",
              "      <td>0.61</td>\n",
              "      <td>-1</td>\n",
              "      <td>-1.00</td>\n",
              "      <td>-1</td>\n",
              "      <td>-1.00</td>\n",
              "      <td>-1</td>\n",
              "      <td>-0.32</td>\n",
              "      <td>-1</td>\n",
              "      <td>-0.32</td>\n",
              "      <td>-1</td>\n",
              "      <td>-0.94</td>\n",
              "      <td>-1</td>\n",
              "      <td>-1.00</td>\n",
              "      <td>-1</td>\n",
              "      <td>0.36</td>\n",
              "      <td>-1</td>\n",
              "      <td>-0.91</td>\n",
              "      <td>-1</td>\n",
              "      <td>-0.83</td>\n",
              "      <td>-1</td>\n",
              "      <td>-0.94</td>\n",
              "      <td>-1</td>\n",
              "      <td>-0.85</td>\n",
              "      <td>-1</td>\n",
              "      <td>0.36</td>\n",
              "      <td>-1</td>\n",
              "      <td>-1</td>\n",
              "      <td>...</td>\n",
              "      <td>-1</td>\n",
              "      <td>0.36</td>\n",
              "      <td>-1</td>\n",
              "      <td>-0.46</td>\n",
              "      <td>-1</td>\n",
              "      <td>-0.59</td>\n",
              "      <td>-1</td>\n",
              "      <td>0.94</td>\n",
              "      <td>-1</td>\n",
              "      <td>0.35</td>\n",
              "      <td>-1</td>\n",
              "      <td>0.14</td>\n",
              "      <td>-1</td>\n",
              "      <td>-1.00</td>\n",
              "      <td>-1</td>\n",
              "      <td>-0.99</td>\n",
              "      <td>-1</td>\n",
              "      <td>-0.85</td>\n",
              "      <td>-1</td>\n",
              "      <td>-0.90</td>\n",
              "      <td>-1</td>\n",
              "      <td>-1.00</td>\n",
              "      <td>-1</td>\n",
              "      <td>0.33</td>\n",
              "      <td>-0.15</td>\n",
              "      <td>0.16</td>\n",
              "      <td>-0.59</td>\n",
              "      <td>0.29</td>\n",
              "      <td>0.87</td>\n",
              "      <td>-0.57</td>\n",
              "      <td>-0.08</td>\n",
              "      <td>-1.00</td>\n",
              "      <td>-0.88</td>\n",
              "      <td>-0.92</td>\n",
              "      <td>-0.88</td>\n",
              "      <td>-0.95</td>\n",
              "      <td>-0.98</td>\n",
              "      <td>-0.96</td>\n",
              "      <td>0-2</td>\n",
              "      <td>0</td>\n",
              "    </tr>\n",
              "    <tr>\n",
              "      <th>4</th>\n",
              "      <td>5</td>\n",
              "      <td>0</td>\n",
              "      <td>0</td>\n",
              "      <td>0</td>\n",
              "      <td>0</td>\n",
              "      <td>0</td>\n",
              "      <td>0</td>\n",
              "      <td>0</td>\n",
              "      <td>0</td>\n",
              "      <td>0</td>\n",
              "      <td>0</td>\n",
              "      <td>0</td>\n",
              "      <td>1</td>\n",
              "      <td>0.61</td>\n",
              "      <td>-1</td>\n",
              "      <td>-1.00</td>\n",
              "      <td>-1</td>\n",
              "      <td>-1.00</td>\n",
              "      <td>-1</td>\n",
              "      <td>-0.32</td>\n",
              "      <td>-1</td>\n",
              "      <td>-0.32</td>\n",
              "      <td>-1</td>\n",
              "      <td>-0.94</td>\n",
              "      <td>-1</td>\n",
              "      <td>-1.00</td>\n",
              "      <td>-1</td>\n",
              "      <td>0.36</td>\n",
              "      <td>-1</td>\n",
              "      <td>-0.89</td>\n",
              "      <td>-1</td>\n",
              "      <td>-0.74</td>\n",
              "      <td>-1</td>\n",
              "      <td>-0.96</td>\n",
              "      <td>-1</td>\n",
              "      <td>-0.89</td>\n",
              "      <td>-1</td>\n",
              "      <td>0.29</td>\n",
              "      <td>-1</td>\n",
              "      <td>-1</td>\n",
              "      <td>...</td>\n",
              "      <td>-1</td>\n",
              "      <td>0.36</td>\n",
              "      <td>-1</td>\n",
              "      <td>-0.29</td>\n",
              "      <td>-1</td>\n",
              "      <td>-0.67</td>\n",
              "      <td>-1</td>\n",
              "      <td>0.94</td>\n",
              "      <td>-1</td>\n",
              "      <td>0.35</td>\n",
              "      <td>-1</td>\n",
              "      <td>0.09</td>\n",
              "      <td>-1</td>\n",
              "      <td>-1.00</td>\n",
              "      <td>-1</td>\n",
              "      <td>-0.99</td>\n",
              "      <td>-1</td>\n",
              "      <td>-0.85</td>\n",
              "      <td>-1</td>\n",
              "      <td>-0.88</td>\n",
              "      <td>-1</td>\n",
              "      <td>-1.00</td>\n",
              "      <td>-1</td>\n",
              "      <td>-0.04</td>\n",
              "      <td>-0.54</td>\n",
              "      <td>-0.54</td>\n",
              "      <td>-0.53</td>\n",
              "      <td>-0.20</td>\n",
              "      <td>0.82</td>\n",
              "      <td>-0.43</td>\n",
              "      <td>-0.25</td>\n",
              "      <td>-0.83</td>\n",
              "      <td>-0.75</td>\n",
              "      <td>-0.98</td>\n",
              "      <td>-1.00</td>\n",
              "      <td>-0.98</td>\n",
              "      <td>-0.98</td>\n",
              "      <td>-0.99</td>\n",
              "      <td>0-2</td>\n",
              "      <td>0</td>\n",
              "    </tr>\n",
              "  </tbody>\n",
              "</table>\n",
              "<p>5 rows × 100 columns</p>\n",
              "</div>"
            ],
            "text/plain": [
              "   PATIENT_VISIT_IDENTIFIER  AGE_ABOVE65  ...  WINDOW  ICU\n",
              "0                         0            1  ...     0-2    1\n",
              "1                         2            0  ...     0-2    1\n",
              "2                         3            0  ...     0-2    0\n",
              "3                         4            0  ...     0-2    0\n",
              "4                         5            0  ...     0-2    0\n",
              "\n",
              "[5 rows x 100 columns]"
            ]
          },
          "metadata": {
            "tags": []
          },
          "execution_count": 7
        }
      ]
    },
    {
      "cell_type": "code",
      "metadata": {
        "colab": {
          "base_uri": "https://localhost:8080/",
          "height": 287
        },
        "id": "_YtAnXUsPibU",
        "outputId": "f4f2e2f2-f705-472f-b1a3-4e3b69209e83"
      },
      "source": [
        "#Excluindo a identificação do paciente e a janela, pois as mesmas foram tratadas para serem únicas\n",
        "dados = dados.drop(['PATIENT_VISIT_IDENTIFIER','WINDOW'],axis=1)\n",
        "dados.head()"
      ],
      "execution_count": null,
      "outputs": [
        {
          "output_type": "execute_result",
          "data": {
            "text/html": [
              "<div>\n",
              "<style scoped>\n",
              "    .dataframe tbody tr th:only-of-type {\n",
              "        vertical-align: middle;\n",
              "    }\n",
              "\n",
              "    .dataframe tbody tr th {\n",
              "        vertical-align: top;\n",
              "    }\n",
              "\n",
              "    .dataframe thead th {\n",
              "        text-align: right;\n",
              "    }\n",
              "</style>\n",
              "<table border=\"1\" class=\"dataframe\">\n",
              "  <thead>\n",
              "    <tr style=\"text-align: right;\">\n",
              "      <th></th>\n",
              "      <th>AGE_ABOVE65</th>\n",
              "      <th>AGE_PERCENTIL</th>\n",
              "      <th>GENDER</th>\n",
              "      <th>DISEASE GROUPING 1</th>\n",
              "      <th>DISEASE GROUPING 2</th>\n",
              "      <th>DISEASE GROUPING 3</th>\n",
              "      <th>DISEASE GROUPING 4</th>\n",
              "      <th>DISEASE GROUPING 5</th>\n",
              "      <th>DISEASE GROUPING 6</th>\n",
              "      <th>HTN</th>\n",
              "      <th>IMMUNOCOMPROMISED</th>\n",
              "      <th>OTHER</th>\n",
              "      <th>ALBUMIN_MEDIAN</th>\n",
              "      <th>ALBUMIN_DIFF</th>\n",
              "      <th>BE_ARTERIAL_MEDIAN</th>\n",
              "      <th>BE_ARTERIAL_DIFF</th>\n",
              "      <th>BE_VENOUS_MEDIAN</th>\n",
              "      <th>BE_VENOUS_DIFF</th>\n",
              "      <th>BIC_ARTERIAL_MEDIAN</th>\n",
              "      <th>BIC_ARTERIAL_DIFF</th>\n",
              "      <th>BIC_VENOUS_MEDIAN</th>\n",
              "      <th>BIC_VENOUS_DIFF</th>\n",
              "      <th>BILLIRUBIN_MEDIAN</th>\n",
              "      <th>BILLIRUBIN_DIFF</th>\n",
              "      <th>BLAST_MEDIAN</th>\n",
              "      <th>BLAST_DIFF</th>\n",
              "      <th>CALCIUM_MEDIAN</th>\n",
              "      <th>CALCIUM_DIFF</th>\n",
              "      <th>CREATININ_MEDIAN</th>\n",
              "      <th>CREATININ_DIFF</th>\n",
              "      <th>FFA_MEDIAN</th>\n",
              "      <th>FFA_DIFF</th>\n",
              "      <th>GGT_MEDIAN</th>\n",
              "      <th>GGT_DIFF</th>\n",
              "      <th>GLUCOSE_MEDIAN</th>\n",
              "      <th>GLUCOSE_DIFF</th>\n",
              "      <th>HEMATOCRITE_MEDIAN</th>\n",
              "      <th>HEMATOCRITE_DIFF</th>\n",
              "      <th>HEMOGLOBIN_DIFF</th>\n",
              "      <th>INR_MEDIAN</th>\n",
              "      <th>...</th>\n",
              "      <th>PH_ARTERIAL_MEDIAN</th>\n",
              "      <th>PH_ARTERIAL_DIFF</th>\n",
              "      <th>PH_VENOUS_MEDIAN</th>\n",
              "      <th>PH_VENOUS_DIFF</th>\n",
              "      <th>PLATELETS_MEDIAN</th>\n",
              "      <th>PLATELETS_DIFF</th>\n",
              "      <th>POTASSIUM_MEDIAN</th>\n",
              "      <th>POTASSIUM_DIFF</th>\n",
              "      <th>SAT02_ARTERIAL_MEDIAN</th>\n",
              "      <th>SAT02_ARTERIAL_DIFF</th>\n",
              "      <th>SAT02_VENOUS_MEDIAN</th>\n",
              "      <th>SAT02_VENOUS_DIFF</th>\n",
              "      <th>SODIUM_MEDIAN</th>\n",
              "      <th>SODIUM_DIFF</th>\n",
              "      <th>TGO_MEDIAN</th>\n",
              "      <th>TGO_DIFF</th>\n",
              "      <th>TGP_MEDIAN</th>\n",
              "      <th>TGP_DIFF</th>\n",
              "      <th>TTPA_MEDIAN</th>\n",
              "      <th>TTPA_DIFF</th>\n",
              "      <th>UREA_MEDIAN</th>\n",
              "      <th>UREA_DIFF</th>\n",
              "      <th>DIMER_MEDIAN</th>\n",
              "      <th>DIMER_DIFF</th>\n",
              "      <th>BLOODPRESSURE_DIASTOLIC_MEAN</th>\n",
              "      <th>BLOODPRESSURE_SISTOLIC_MEAN</th>\n",
              "      <th>HEART_RATE_MEAN</th>\n",
              "      <th>RESPIRATORY_RATE_MEAN</th>\n",
              "      <th>TEMPERATURE_MEAN</th>\n",
              "      <th>OXYGEN_SATURATION_MEAN</th>\n",
              "      <th>RESPIRATORY_RATE_MIN</th>\n",
              "      <th>BLOODPRESSURE_DIASTOLIC_MAX</th>\n",
              "      <th>BLOODPRESSURE_DIASTOLIC_DIFF</th>\n",
              "      <th>BLOODPRESSURE_SISTOLIC_DIFF</th>\n",
              "      <th>HEART_RATE_DIFF</th>\n",
              "      <th>RESPIRATORY_RATE_DIFF</th>\n",
              "      <th>TEMPERATURE_DIFF</th>\n",
              "      <th>OXYGEN_SATURATION_DIFF</th>\n",
              "      <th>HEART_RATE_DIFF_REL</th>\n",
              "      <th>ICU</th>\n",
              "    </tr>\n",
              "  </thead>\n",
              "  <tbody>\n",
              "    <tr>\n",
              "      <th>0</th>\n",
              "      <td>1</td>\n",
              "      <td>5</td>\n",
              "      <td>0</td>\n",
              "      <td>0</td>\n",
              "      <td>0</td>\n",
              "      <td>0</td>\n",
              "      <td>0</td>\n",
              "      <td>1</td>\n",
              "      <td>1</td>\n",
              "      <td>0</td>\n",
              "      <td>0</td>\n",
              "      <td>1</td>\n",
              "      <td>0.61</td>\n",
              "      <td>-1</td>\n",
              "      <td>-1.00</td>\n",
              "      <td>-1</td>\n",
              "      <td>-1.00</td>\n",
              "      <td>-1</td>\n",
              "      <td>-0.32</td>\n",
              "      <td>-1</td>\n",
              "      <td>-0.32</td>\n",
              "      <td>-1</td>\n",
              "      <td>-0.94</td>\n",
              "      <td>-1</td>\n",
              "      <td>-1.00</td>\n",
              "      <td>-1</td>\n",
              "      <td>0.18</td>\n",
              "      <td>-1</td>\n",
              "      <td>-0.87</td>\n",
              "      <td>-1</td>\n",
              "      <td>-0.74</td>\n",
              "      <td>-1</td>\n",
              "      <td>-0.95</td>\n",
              "      <td>-1</td>\n",
              "      <td>-0.89</td>\n",
              "      <td>-1</td>\n",
              "      <td>0.09</td>\n",
              "      <td>-1</td>\n",
              "      <td>-1</td>\n",
              "      <td>-0.93</td>\n",
              "      <td>...</td>\n",
              "      <td>0.23</td>\n",
              "      <td>-1</td>\n",
              "      <td>0.36</td>\n",
              "      <td>-1</td>\n",
              "      <td>-0.54</td>\n",
              "      <td>-1</td>\n",
              "      <td>-0.52</td>\n",
              "      <td>-1</td>\n",
              "      <td>0.94</td>\n",
              "      <td>-1</td>\n",
              "      <td>0.35</td>\n",
              "      <td>-1</td>\n",
              "      <td>-0.03</td>\n",
              "      <td>-1</td>\n",
              "      <td>-1.00</td>\n",
              "      <td>-1</td>\n",
              "      <td>-0.99</td>\n",
              "      <td>-1</td>\n",
              "      <td>-0.83</td>\n",
              "      <td>-1</td>\n",
              "      <td>-0.84</td>\n",
              "      <td>-1</td>\n",
              "      <td>-0.99</td>\n",
              "      <td>-1</td>\n",
              "      <td>0.09</td>\n",
              "      <td>-0.23</td>\n",
              "      <td>-0.28</td>\n",
              "      <td>-0.59</td>\n",
              "      <td>-0.29</td>\n",
              "      <td>0.74</td>\n",
              "      <td>-0.50</td>\n",
              "      <td>-0.25</td>\n",
              "      <td>-1.00</td>\n",
              "      <td>-1.00</td>\n",
              "      <td>-1.00</td>\n",
              "      <td>-1.00</td>\n",
              "      <td>-1.00</td>\n",
              "      <td>-1.00</td>\n",
              "      <td>-1.00</td>\n",
              "      <td>1</td>\n",
              "    </tr>\n",
              "    <tr>\n",
              "      <th>1</th>\n",
              "      <td>0</td>\n",
              "      <td>0</td>\n",
              "      <td>0</td>\n",
              "      <td>0</td>\n",
              "      <td>0</td>\n",
              "      <td>0</td>\n",
              "      <td>0</td>\n",
              "      <td>0</td>\n",
              "      <td>0</td>\n",
              "      <td>0</td>\n",
              "      <td>0</td>\n",
              "      <td>1</td>\n",
              "      <td>0.61</td>\n",
              "      <td>-1</td>\n",
              "      <td>-1.00</td>\n",
              "      <td>-1</td>\n",
              "      <td>-1.00</td>\n",
              "      <td>-1</td>\n",
              "      <td>-0.32</td>\n",
              "      <td>-1</td>\n",
              "      <td>-0.32</td>\n",
              "      <td>-1</td>\n",
              "      <td>-0.94</td>\n",
              "      <td>-1</td>\n",
              "      <td>-1.00</td>\n",
              "      <td>-1</td>\n",
              "      <td>0.36</td>\n",
              "      <td>-1</td>\n",
              "      <td>-0.91</td>\n",
              "      <td>-1</td>\n",
              "      <td>-0.74</td>\n",
              "      <td>-1</td>\n",
              "      <td>-0.96</td>\n",
              "      <td>-1</td>\n",
              "      <td>-0.78</td>\n",
              "      <td>-1</td>\n",
              "      <td>0.14</td>\n",
              "      <td>-1</td>\n",
              "      <td>-1</td>\n",
              "      <td>-0.96</td>\n",
              "      <td>...</td>\n",
              "      <td>0.23</td>\n",
              "      <td>-1</td>\n",
              "      <td>0.36</td>\n",
              "      <td>-1</td>\n",
              "      <td>-0.40</td>\n",
              "      <td>-1</td>\n",
              "      <td>-0.70</td>\n",
              "      <td>-1</td>\n",
              "      <td>0.94</td>\n",
              "      <td>-1</td>\n",
              "      <td>0.35</td>\n",
              "      <td>-1</td>\n",
              "      <td>0.09</td>\n",
              "      <td>-1</td>\n",
              "      <td>-1.00</td>\n",
              "      <td>-1</td>\n",
              "      <td>-0.99</td>\n",
              "      <td>-1</td>\n",
              "      <td>-0.85</td>\n",
              "      <td>-1</td>\n",
              "      <td>-0.84</td>\n",
              "      <td>-1</td>\n",
              "      <td>-0.98</td>\n",
              "      <td>-1</td>\n",
              "      <td>-0.49</td>\n",
              "      <td>-0.69</td>\n",
              "      <td>-0.05</td>\n",
              "      <td>-0.65</td>\n",
              "      <td>0.36</td>\n",
              "      <td>0.94</td>\n",
              "      <td>-0.71</td>\n",
              "      <td>-0.44</td>\n",
              "      <td>-0.55</td>\n",
              "      <td>-0.53</td>\n",
              "      <td>-0.60</td>\n",
              "      <td>-0.76</td>\n",
              "      <td>-1.00</td>\n",
              "      <td>-0.96</td>\n",
              "      <td>-0.75</td>\n",
              "      <td>1</td>\n",
              "    </tr>\n",
              "    <tr>\n",
              "      <th>2</th>\n",
              "      <td>0</td>\n",
              "      <td>3</td>\n",
              "      <td>1</td>\n",
              "      <td>0</td>\n",
              "      <td>0</td>\n",
              "      <td>0</td>\n",
              "      <td>0</td>\n",
              "      <td>0</td>\n",
              "      <td>0</td>\n",
              "      <td>0</td>\n",
              "      <td>1</td>\n",
              "      <td>1</td>\n",
              "      <td>-0.26</td>\n",
              "      <td>-1</td>\n",
              "      <td>-1.00</td>\n",
              "      <td>-1</td>\n",
              "      <td>-1.00</td>\n",
              "      <td>-1</td>\n",
              "      <td>-0.32</td>\n",
              "      <td>-1</td>\n",
              "      <td>-0.32</td>\n",
              "      <td>-1</td>\n",
              "      <td>-0.97</td>\n",
              "      <td>-1</td>\n",
              "      <td>-1.00</td>\n",
              "      <td>-1</td>\n",
              "      <td>0.33</td>\n",
              "      <td>-1</td>\n",
              "      <td>-0.97</td>\n",
              "      <td>-1</td>\n",
              "      <td>-0.19</td>\n",
              "      <td>-1</td>\n",
              "      <td>-0.32</td>\n",
              "      <td>-1</td>\n",
              "      <td>-0.89</td>\n",
              "      <td>-1</td>\n",
              "      <td>-0.20</td>\n",
              "      <td>-1</td>\n",
              "      <td>-1</td>\n",
              "      <td>-0.96</td>\n",
              "      <td>...</td>\n",
              "      <td>0.23</td>\n",
              "      <td>-1</td>\n",
              "      <td>0.36</td>\n",
              "      <td>-1</td>\n",
              "      <td>-0.56</td>\n",
              "      <td>-1</td>\n",
              "      <td>-0.78</td>\n",
              "      <td>-1</td>\n",
              "      <td>0.94</td>\n",
              "      <td>-1</td>\n",
              "      <td>0.58</td>\n",
              "      <td>-1</td>\n",
              "      <td>0.20</td>\n",
              "      <td>-1</td>\n",
              "      <td>-0.99</td>\n",
              "      <td>-1</td>\n",
              "      <td>-0.96</td>\n",
              "      <td>-1</td>\n",
              "      <td>-0.85</td>\n",
              "      <td>-1</td>\n",
              "      <td>-0.94</td>\n",
              "      <td>-1</td>\n",
              "      <td>-0.98</td>\n",
              "      <td>-1</td>\n",
              "      <td>0.01</td>\n",
              "      <td>-0.37</td>\n",
              "      <td>-0.53</td>\n",
              "      <td>-0.46</td>\n",
              "      <td>-0.29</td>\n",
              "      <td>0.68</td>\n",
              "      <td>-0.36</td>\n",
              "      <td>-0.30</td>\n",
              "      <td>-1.00</td>\n",
              "      <td>-1.00</td>\n",
              "      <td>-1.00</td>\n",
              "      <td>-1.00</td>\n",
              "      <td>-1.00</td>\n",
              "      <td>-1.00</td>\n",
              "      <td>-1.00</td>\n",
              "      <td>0</td>\n",
              "    </tr>\n",
              "    <tr>\n",
              "      <th>3</th>\n",
              "      <td>0</td>\n",
              "      <td>0</td>\n",
              "      <td>0</td>\n",
              "      <td>0</td>\n",
              "      <td>0</td>\n",
              "      <td>0</td>\n",
              "      <td>0</td>\n",
              "      <td>0</td>\n",
              "      <td>0</td>\n",
              "      <td>0</td>\n",
              "      <td>0</td>\n",
              "      <td>1</td>\n",
              "      <td>0.61</td>\n",
              "      <td>-1</td>\n",
              "      <td>-1.00</td>\n",
              "      <td>-1</td>\n",
              "      <td>-1.00</td>\n",
              "      <td>-1</td>\n",
              "      <td>-0.32</td>\n",
              "      <td>-1</td>\n",
              "      <td>-0.32</td>\n",
              "      <td>-1</td>\n",
              "      <td>-0.94</td>\n",
              "      <td>-1</td>\n",
              "      <td>-1.00</td>\n",
              "      <td>-1</td>\n",
              "      <td>0.36</td>\n",
              "      <td>-1</td>\n",
              "      <td>-0.91</td>\n",
              "      <td>-1</td>\n",
              "      <td>-0.83</td>\n",
              "      <td>-1</td>\n",
              "      <td>-0.94</td>\n",
              "      <td>-1</td>\n",
              "      <td>-0.85</td>\n",
              "      <td>-1</td>\n",
              "      <td>0.36</td>\n",
              "      <td>-1</td>\n",
              "      <td>-1</td>\n",
              "      <td>-0.96</td>\n",
              "      <td>...</td>\n",
              "      <td>0.23</td>\n",
              "      <td>-1</td>\n",
              "      <td>0.36</td>\n",
              "      <td>-1</td>\n",
              "      <td>-0.46</td>\n",
              "      <td>-1</td>\n",
              "      <td>-0.59</td>\n",
              "      <td>-1</td>\n",
              "      <td>0.94</td>\n",
              "      <td>-1</td>\n",
              "      <td>0.35</td>\n",
              "      <td>-1</td>\n",
              "      <td>0.14</td>\n",
              "      <td>-1</td>\n",
              "      <td>-1.00</td>\n",
              "      <td>-1</td>\n",
              "      <td>-0.99</td>\n",
              "      <td>-1</td>\n",
              "      <td>-0.85</td>\n",
              "      <td>-1</td>\n",
              "      <td>-0.90</td>\n",
              "      <td>-1</td>\n",
              "      <td>-1.00</td>\n",
              "      <td>-1</td>\n",
              "      <td>0.33</td>\n",
              "      <td>-0.15</td>\n",
              "      <td>0.16</td>\n",
              "      <td>-0.59</td>\n",
              "      <td>0.29</td>\n",
              "      <td>0.87</td>\n",
              "      <td>-0.57</td>\n",
              "      <td>-0.08</td>\n",
              "      <td>-1.00</td>\n",
              "      <td>-0.88</td>\n",
              "      <td>-0.92</td>\n",
              "      <td>-0.88</td>\n",
              "      <td>-0.95</td>\n",
              "      <td>-0.98</td>\n",
              "      <td>-0.96</td>\n",
              "      <td>0</td>\n",
              "    </tr>\n",
              "    <tr>\n",
              "      <th>4</th>\n",
              "      <td>0</td>\n",
              "      <td>0</td>\n",
              "      <td>0</td>\n",
              "      <td>0</td>\n",
              "      <td>0</td>\n",
              "      <td>0</td>\n",
              "      <td>0</td>\n",
              "      <td>0</td>\n",
              "      <td>0</td>\n",
              "      <td>0</td>\n",
              "      <td>0</td>\n",
              "      <td>1</td>\n",
              "      <td>0.61</td>\n",
              "      <td>-1</td>\n",
              "      <td>-1.00</td>\n",
              "      <td>-1</td>\n",
              "      <td>-1.00</td>\n",
              "      <td>-1</td>\n",
              "      <td>-0.32</td>\n",
              "      <td>-1</td>\n",
              "      <td>-0.32</td>\n",
              "      <td>-1</td>\n",
              "      <td>-0.94</td>\n",
              "      <td>-1</td>\n",
              "      <td>-1.00</td>\n",
              "      <td>-1</td>\n",
              "      <td>0.36</td>\n",
              "      <td>-1</td>\n",
              "      <td>-0.89</td>\n",
              "      <td>-1</td>\n",
              "      <td>-0.74</td>\n",
              "      <td>-1</td>\n",
              "      <td>-0.96</td>\n",
              "      <td>-1</td>\n",
              "      <td>-0.89</td>\n",
              "      <td>-1</td>\n",
              "      <td>0.29</td>\n",
              "      <td>-1</td>\n",
              "      <td>-1</td>\n",
              "      <td>-0.96</td>\n",
              "      <td>...</td>\n",
              "      <td>0.23</td>\n",
              "      <td>-1</td>\n",
              "      <td>0.36</td>\n",
              "      <td>-1</td>\n",
              "      <td>-0.29</td>\n",
              "      <td>-1</td>\n",
              "      <td>-0.67</td>\n",
              "      <td>-1</td>\n",
              "      <td>0.94</td>\n",
              "      <td>-1</td>\n",
              "      <td>0.35</td>\n",
              "      <td>-1</td>\n",
              "      <td>0.09</td>\n",
              "      <td>-1</td>\n",
              "      <td>-1.00</td>\n",
              "      <td>-1</td>\n",
              "      <td>-0.99</td>\n",
              "      <td>-1</td>\n",
              "      <td>-0.85</td>\n",
              "      <td>-1</td>\n",
              "      <td>-0.88</td>\n",
              "      <td>-1</td>\n",
              "      <td>-1.00</td>\n",
              "      <td>-1</td>\n",
              "      <td>-0.04</td>\n",
              "      <td>-0.54</td>\n",
              "      <td>-0.54</td>\n",
              "      <td>-0.53</td>\n",
              "      <td>-0.20</td>\n",
              "      <td>0.82</td>\n",
              "      <td>-0.43</td>\n",
              "      <td>-0.25</td>\n",
              "      <td>-0.83</td>\n",
              "      <td>-0.75</td>\n",
              "      <td>-0.98</td>\n",
              "      <td>-1.00</td>\n",
              "      <td>-0.98</td>\n",
              "      <td>-0.98</td>\n",
              "      <td>-0.99</td>\n",
              "      <td>0</td>\n",
              "    </tr>\n",
              "  </tbody>\n",
              "</table>\n",
              "<p>5 rows × 98 columns</p>\n",
              "</div>"
            ],
            "text/plain": [
              "   AGE_ABOVE65  AGE_PERCENTIL  ...  HEART_RATE_DIFF_REL  ICU\n",
              "0            1              5  ...                -1.00    1\n",
              "1            0              0  ...                -0.75    1\n",
              "2            0              3  ...                -1.00    0\n",
              "3            0              0  ...                -0.96    0\n",
              "4            0              0  ...                -0.99    0\n",
              "\n",
              "[5 rows x 98 columns]"
            ]
          },
          "metadata": {
            "tags": []
          },
          "execution_count": 8
        }
      ]
    },
    {
      "cell_type": "markdown",
      "metadata": {
        "id": "6FV4Cfg0SEjv"
      },
      "source": [
        "#Inicio dos estudos"
      ]
    },
    {
      "cell_type": "markdown",
      "metadata": {
        "id": "O1bXe6NTSI5Q"
      },
      "source": [
        "Para determinar que modelos seriam estudados no trabalho, usei o LazyClassifier para rankear os melhores modelos baseados na somatória dos scores"
      ]
    },
    {
      "cell_type": "code",
      "metadata": {
        "colab": {
          "base_uri": "https://localhost:8080/",
          "height": 252
        },
        "id": "qi8deVSrPx9q",
        "outputId": "c020ad4d-c904-44b4-8f34-f1c5dca74707"
      },
      "source": [
        "#Nesse momento, estou usando o LazyClassifier para verificar os melhores modelos de acordo com os scores somados\n",
        "\n",
        "# Definindo seed para o exercicio ser replicável\n",
        "np.random.seed(76538)\n",
        "\n",
        "#Definindo x e y\n",
        "x = dados.drop(['ICU'], axis=1) \n",
        "y= dados['ICU']\n",
        "\n",
        "#Separando os dados em treino e teste\n",
        "x_train, x_test, y_train, y_test = train_test_split(x, y, stratify=y, test_size=0.15)\n",
        "\n",
        "# rodando o LazyClassifier\n",
        "clf = LazyClassifier(predictions=True)\n",
        "models, predictions = clf.fit(x_train, x_test, y_train, y_test) \n",
        "\n",
        "#Criando o totalizador dos scores\n",
        "models['Totalizadora'] = models['Accuracy']+models['Balanced Accuracy']+models['ROC AUC']+models['F1 Score']\n",
        "\n",
        "#Ordenando pelo total dos scores\n",
        "models = models.sort_values(by='Totalizadora',ascending=False)\n",
        "\n",
        "#Exibindo os 5 melhores modelos vistos\n",
        "models.head()"
      ],
      "execution_count": null,
      "outputs": [
        {
          "output_type": "stream",
          "text": [
            "100%|██████████| 29/29 [00:02<00:00, 14.15it/s]\n"
          ],
          "name": "stderr"
        },
        {
          "output_type": "execute_result",
          "data": {
            "text/html": [
              "<div>\n",
              "<style scoped>\n",
              "    .dataframe tbody tr th:only-of-type {\n",
              "        vertical-align: middle;\n",
              "    }\n",
              "\n",
              "    .dataframe tbody tr th {\n",
              "        vertical-align: top;\n",
              "    }\n",
              "\n",
              "    .dataframe thead th {\n",
              "        text-align: right;\n",
              "    }\n",
              "</style>\n",
              "<table border=\"1\" class=\"dataframe\">\n",
              "  <thead>\n",
              "    <tr style=\"text-align: right;\">\n",
              "      <th></th>\n",
              "      <th>Accuracy</th>\n",
              "      <th>Balanced Accuracy</th>\n",
              "      <th>ROC AUC</th>\n",
              "      <th>F1 Score</th>\n",
              "      <th>Time Taken</th>\n",
              "      <th>Totalizadora</th>\n",
              "    </tr>\n",
              "    <tr>\n",
              "      <th>Model</th>\n",
              "      <th></th>\n",
              "      <th></th>\n",
              "      <th></th>\n",
              "      <th></th>\n",
              "      <th></th>\n",
              "      <th></th>\n",
              "    </tr>\n",
              "  </thead>\n",
              "  <tbody>\n",
              "    <tr>\n",
              "      <th>NearestCentroid</th>\n",
              "      <td>0.75</td>\n",
              "      <td>0.75</td>\n",
              "      <td>0.75</td>\n",
              "      <td>0.75</td>\n",
              "      <td>0.03</td>\n",
              "      <td>3.01</td>\n",
              "    </tr>\n",
              "    <tr>\n",
              "      <th>PassiveAggressiveClassifier</th>\n",
              "      <td>0.74</td>\n",
              "      <td>0.73</td>\n",
              "      <td>0.73</td>\n",
              "      <td>0.73</td>\n",
              "      <td>0.03</td>\n",
              "      <td>2.94</td>\n",
              "    </tr>\n",
              "    <tr>\n",
              "      <th>NuSVC</th>\n",
              "      <td>0.72</td>\n",
              "      <td>0.72</td>\n",
              "      <td>0.72</td>\n",
              "      <td>0.72</td>\n",
              "      <td>0.06</td>\n",
              "      <td>2.88</td>\n",
              "    </tr>\n",
              "    <tr>\n",
              "      <th>ExtraTreesClassifier</th>\n",
              "      <td>0.72</td>\n",
              "      <td>0.72</td>\n",
              "      <td>0.72</td>\n",
              "      <td>0.72</td>\n",
              "      <td>0.19</td>\n",
              "      <td>2.86</td>\n",
              "    </tr>\n",
              "    <tr>\n",
              "      <th>RandomForestClassifier</th>\n",
              "      <td>0.70</td>\n",
              "      <td>0.70</td>\n",
              "      <td>0.69</td>\n",
              "      <td>0.70</td>\n",
              "      <td>0.28</td>\n",
              "      <td>2.79</td>\n",
              "    </tr>\n",
              "  </tbody>\n",
              "</table>\n",
              "</div>"
            ],
            "text/plain": [
              "                             Accuracy  ...  Totalizadora\n",
              "Model                                  ...              \n",
              "NearestCentroid                  0.75  ...          3.01\n",
              "PassiveAggressiveClassifier      0.74  ...          2.94\n",
              "NuSVC                            0.72  ...          2.88\n",
              "ExtraTreesClassifier             0.72  ...          2.86\n",
              "RandomForestClassifier           0.70  ...          2.79\n",
              "\n",
              "[5 rows x 6 columns]"
            ]
          },
          "metadata": {
            "tags": []
          },
          "execution_count": 9
        }
      ]
    },
    {
      "cell_type": "markdown",
      "metadata": {
        "id": "U_P8LaFDYmxK"
      },
      "source": [
        "# Definição dos modelos:\n",
        "Com o resumo dos melhores modelos sugeridos, optei pelos seguintes modelos para o estudo: \n",
        " \n",
        "  1) XGBClassifier\n",
        "\n",
        "  2) LogisticRegression\n",
        "\n",
        "  3) ExtraTreesClassifier\n",
        "\n",
        "---------------------\n",
        "\n",
        "\n",
        "Para testar e avaliar cada modelo, seguirei o seguinte roteiro:\n",
        "\n",
        "*   Acuracia, AUC e Classification report\n",
        "*   Matriz de confusão do modelo\n",
        "*   Cross Validation\n",
        "*   Grafico da Curva ROC"
      ]
    },
    {
      "cell_type": "markdown",
      "metadata": {
        "id": "4LRFFxxISqy5"
      },
      "source": [
        "# Inicio dos testes"
      ]
    },
    {
      "cell_type": "markdown",
      "metadata": {
        "id": "7_YDU83ENnlT"
      },
      "source": [
        "## XGBClassifier\n",
        "\n",
        "\n",
        "\n"
      ]
    },
    {
      "cell_type": "code",
      "metadata": {
        "id": "n5LfRkOMP2HN"
      },
      "source": [
        "# Criação do modelo\n",
        "modelo_xgb = XGBClassifier()"
      ],
      "execution_count": null,
      "outputs": []
    },
    {
      "cell_type": "code",
      "metadata": {
        "colab": {
          "base_uri": "https://localhost:8080/"
        },
        "id": "DzNBnrfMRCuC",
        "outputId": "0adacda6-f311-471d-9941-12f38deba040"
      },
      "source": [
        "# rodando a acurácia do modelo XGB\n",
        "testa_acuracia(modelo_xgb,dados)"
      ],
      "execution_count": null,
      "outputs": [
        {
          "output_type": "stream",
          "text": [
            "A acurácia do Modelo é de: 60.38 %\n",
            "A AUC é 0.677143\n",
            "\n",
            "Classification Report do modelo:\n",
            "              precision    recall  f1-score   support\n",
            "\n",
            "           0       0.65      0.54      0.59        28\n",
            "           1       0.57      0.68      0.62        25\n",
            "\n",
            "    accuracy                           0.60        53\n",
            "   macro avg       0.61      0.61      0.60        53\n",
            "weighted avg       0.61      0.60      0.60        53\n",
            "\n"
          ],
          "name": "stdout"
        }
      ]
    },
    {
      "cell_type": "code",
      "metadata": {
        "colab": {
          "base_uri": "https://localhost:8080/",
          "height": 428
        },
        "id": "o51_RWQdE__5",
        "outputId": "a18f314d-f4af-466f-dfa4-cd415dacd57b"
      },
      "source": [
        "# rodando matriz de confusão pro modelo XGB\n",
        "matriz_confusao(modelo_xgb,dados)"
      ],
      "execution_count": null,
      "outputs": [
        {
          "output_type": "display_data",
          "data": {
            "image/png": "[encoded data removed]",
            "text/plain": [
              "<Figure size 504x504 with 2 Axes>"
            ]
          },
          "metadata": {
            "tags": [],
            "needs_background": "light"
          }
        }
      ]
    },
    {
      "cell_type": "code",
      "metadata": {
        "colab": {
          "base_uri": "https://localhost:8080/"
        },
        "id": "I77_em0mdejf",
        "outputId": "81771752-e59d-4743-ea8a-906f04694158"
      },
      "source": [
        "# rodando o cross validation pro modelo XGB\n",
        "cross_validation(modelo_xgb,dados,5,10)"
      ],
      "execution_count": null,
      "outputs": [
        {
          "output_type": "stream",
          "text": [
            "AUC médio é 0.783362 e o intervalo é 0.682252 - 0.884473\n"
          ],
          "name": "stdout"
        }
      ]
    },
    {
      "cell_type": "code",
      "metadata": {
        "colab": {
          "base_uri": "https://localhost:8080/",
          "height": 279
        },
        "id": "i2DgA6FdKGdW",
        "outputId": "8c875369-0d0e-4b5e-826e-69a7a6d6a28f"
      },
      "source": [
        "# rodando a curva ROC do modelo XGB\n",
        "plot_roc_curve(modelo_xgb, x_test, y_test)\n",
        "sns.despine()\n",
        "plt.show()"
      ],
      "execution_count": null,
      "outputs": [
        {
          "output_type": "display_data",
          "data": {
            "image/png": "[encoded data removed]",
            "text/plain": [
              "<Figure size 432x288 with 1 Axes>"
            ]
          },
          "metadata": {
            "tags": [],
            "needs_background": "light"
          }
        }
      ]
    },
    {
      "cell_type": "markdown",
      "metadata": {
        "id": "nULkbe1-nY1o"
      },
      "source": [
        "## Logistic Regression"
      ]
    },
    {
      "cell_type": "code",
      "metadata": {
        "id": "SUadqlkKjIUJ"
      },
      "source": [
        "#Criando o modelo de regressão\n",
        "modelo_regressao = LogisticRegression()"
      ],
      "execution_count": null,
      "outputs": []
    },
    {
      "cell_type": "code",
      "metadata": {
        "colab": {
          "base_uri": "https://localhost:8080/"
        },
        "id": "kzOLYks7jC8v",
        "outputId": "10739047-0573-4277-f7ea-f0cf4fd9e71c"
      },
      "source": [
        "# Rodando a acurácia do modelo de regressão\n",
        "testa_acuracia(modelo_regressao,dados)"
      ],
      "execution_count": null,
      "outputs": [
        {
          "output_type": "stream",
          "text": [
            "A acurácia do Modelo é de: 84.91 %\n",
            "A AUC é 0.865714\n",
            "\n",
            "Classification Report do modelo:\n",
            "              precision    recall  f1-score   support\n",
            "\n",
            "           0       0.88      0.82      0.85        28\n",
            "           1       0.81      0.88      0.85        25\n",
            "\n",
            "    accuracy                           0.85        53\n",
            "   macro avg       0.85      0.85      0.85        53\n",
            "weighted avg       0.85      0.85      0.85        53\n",
            "\n"
          ],
          "name": "stdout"
        }
      ]
    },
    {
      "cell_type": "code",
      "metadata": {
        "colab": {
          "base_uri": "https://localhost:8080/",
          "height": 428
        },
        "id": "dnLSivGRsnD2",
        "outputId": "8dafb072-c865-4bbd-f084-5b90b94a41b2"
      },
      "source": [
        "# Rodando a matriz de confusão do modelo de regressão\n",
        "matriz_confusao(modelo_regressao,dados)"
      ],
      "execution_count": null,
      "outputs": [
        {
          "output_type": "display_data",
          "data": {
            "image/png": "[encoded data removed]",
            "text/plain": [
              "<Figure size 504x504 with 2 Axes>"
            ]
          },
          "metadata": {
            "tags": [],
            "needs_background": "light"
          }
        }
      ]
    },
    {
      "cell_type": "code",
      "metadata": {
        "colab": {
          "base_uri": "https://localhost:8080/",
          "height": 279
        },
        "id": "MvyzncY-KZCx",
        "outputId": "986ca3ee-062f-4fcf-bdf1-a8a48b2cec40"
      },
      "source": [
        "# Rodando a curva ROC do modelo de regressão\n",
        "plot_roc_curve(modelo_regressao, x_test, y_test)\n",
        "sns.despine()\n",
        "plt.show()"
      ],
      "execution_count": null,
      "outputs": [
        {
          "output_type": "display_data",
          "data": {
            "image/png": "[encoded data removed]",
            "text/plain": [
              "<Figure size 432x288 with 1 Axes>"
            ]
          },
          "metadata": {
            "tags": [],
            "needs_background": "light"
          }
        }
      ]
    },
    {
      "cell_type": "code",
      "metadata": {
        "colab": {
          "base_uri": "https://localhost:8080/"
        },
        "id": "ta8iyYHYjW2I",
        "outputId": "7ffb9fc4-1c15-4bb6-c58d-c7fa728f4f38"
      },
      "source": [
        "# Rodando a cross validation do modelo de regressão\n",
        "cross_validation(modelo_regressao,dados,5,10)"
      ],
      "execution_count": null,
      "outputs": [
        {
          "output_type": "stream",
          "text": [
            "AUC médio é 0.767637 e o intervalo é 0.663334 - 0.871940\n"
          ],
          "name": "stdout"
        }
      ]
    },
    {
      "cell_type": "markdown",
      "metadata": {
        "id": "n6MftOhAoes2"
      },
      "source": [
        "## ExtraTreesClassifier"
      ]
    },
    {
      "cell_type": "code",
      "metadata": {
        "id": "LhOI-BT3jfZV"
      },
      "source": [
        "# Criando o modelo Extra Trees Classifier\n",
        "modelo_exc = ExtraTreesClassifier()"
      ],
      "execution_count": null,
      "outputs": []
    },
    {
      "cell_type": "code",
      "metadata": {
        "colab": {
          "base_uri": "https://localhost:8080/"
        },
        "id": "n4L_YYfgTLgM",
        "outputId": "540be3d3-b85d-489f-a74b-5c1d7da0804e"
      },
      "source": [
        "# Rodando a acurácia do modelo Extra Trees Classifier\n",
        "testa_acuracia(modelo_exc,dados)"
      ],
      "execution_count": null,
      "outputs": [
        {
          "output_type": "stream",
          "text": [
            "A acurácia do Modelo é de: 73.58 %\n",
            "A AUC é 0.839286\n",
            "\n",
            "Classification Report do modelo:\n",
            "              precision    recall  f1-score   support\n",
            "\n",
            "           0       0.75      0.75      0.75        28\n",
            "           1       0.72      0.72      0.72        25\n",
            "\n",
            "    accuracy                           0.74        53\n",
            "   macro avg       0.73      0.73      0.73        53\n",
            "weighted avg       0.74      0.74      0.74        53\n",
            "\n"
          ],
          "name": "stdout"
        }
      ]
    },
    {
      "cell_type": "code",
      "metadata": {
        "colab": {
          "base_uri": "https://localhost:8080/",
          "height": 428
        },
        "id": "AnfRlP0ujg9I",
        "outputId": "730225d7-1953-4e00-c6a1-285875bbd906"
      },
      "source": [
        "# Rodando a matriz de confusão do modelo Extra Trees Classifier\n",
        "matriz_confusao(modelo_exc,dados)"
      ],
      "execution_count": null,
      "outputs": [
        {
          "output_type": "display_data",
          "data": {
            "image/png": "[encoded data removed]",
            "text/plain": [
              "<Figure size 504x504 with 2 Axes>"
            ]
          },
          "metadata": {
            "tags": [],
            "needs_background": "light"
          }
        }
      ]
    },
    {
      "cell_type": "code",
      "metadata": {
        "colab": {
          "base_uri": "https://localhost:8080/",
          "height": 279
        },
        "id": "HwzPg6aFs9qf",
        "outputId": "1afb86c4-da70-43c3-eb4f-aaea29d15b57"
      },
      "source": [
        "plot_roc_curve(modelo_exc, x_test, y_test)\n",
        "sns.despine()\n",
        "plt.show()"
      ],
      "execution_count": null,
      "outputs": [
        {
          "output_type": "display_data",
          "data": {
            "image/png": "[encoded data removed]",
            "text/plain": [
              "<Figure size 432x288 with 1 Axes>"
            ]
          },
          "metadata": {
            "tags": [],
            "needs_background": "light"
          }
        }
      ]
    },
    {
      "cell_type": "code",
      "metadata": {
        "colab": {
          "base_uri": "https://localhost:8080/"
        },
        "id": "XE4YAWvVjJgF",
        "outputId": "8e63561d-7325-4f01-e679-ddea06cefc94"
      },
      "source": [
        "# Rodando a curva ROC do modelo Extra Trees Classifier\n",
        "cross_validation(modelo_exc,dados,5,10)"
      ],
      "execution_count": null,
      "outputs": [
        {
          "output_type": "stream",
          "text": [
            "AUC médio é 0.785964 e o intervalo é 0.672433 - 0.899494\n"
          ],
          "name": "stdout"
        }
      ]
    },
    {
      "cell_type": "markdown",
      "metadata": {
        "id": "deFd2nekcsIE"
      },
      "source": [
        "#Conclusão prévia:"
      ]
    },
    {
      "cell_type": "markdown",
      "metadata": {
        "id": "MbLmaAx_d7Gg"
      },
      "source": [
        "Com os modelos estudados conseguimos os seguintes resultados:"
      ]
    },
    {
      "cell_type": "markdown",
      "metadata": {
        "id": "srQzKO9xcvep"
      },
      "source": [
        "Scores:\n",
        "\n",
        "\n",
        "![image.png](data:image/png;base64,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)"
      ]
    },
    {
      "cell_type": "markdown",
      "metadata": {
        "id": "HYaMFEiNeAhf"
      },
      "source": [
        "Classification Reports:\n",
        "\n",
        "\n",
        "![image.png](data:image/png;base64,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)"
      ]
    },
    {
      "cell_type": "markdown",
      "metadata": {
        "id": "OGt7S56vfu4d"
      },
      "source": [
        "Com os resultados, observamos que o modelo LogisticRegression, apesar de ter uma faixa de AUC levemente menor que dos outros modelos, a precisão e o recall dele são os maiores. Considerando esse conjunto ele é o que pode trazer maior acertividade e confiança."
      ]
    },
    {
      "cell_type": "markdown",
      "metadata": {
        "id": "JO4bByiduXtr"
      },
      "source": [
        "# Aplicando o FeatureWiz"
      ]
    },
    {
      "cell_type": "markdown",
      "metadata": {
        "id": "FLufvNCwS21V"
      },
      "source": [
        "Neste momento do trabalho, usaremos o Featurewiz para determinar as melhores features e verificar se houve melhora nos resultados"
      ]
    },
    {
      "cell_type": "code",
      "metadata": {
        "colab": {
          "base_uri": "https://localhost:8080/",
          "height": 1000
        },
        "id": "S9eKcKMauW-I",
        "outputId": "34cf763f-b1f2-4377-95b8-ded594590572"
      },
      "source": [
        "# Rodando o Featurewiz\n",
        "features_wiz = featurewiz(dados, target='ICU', corr_limit=0.70, verbose=2)"
      ],
      "execution_count": null,
      "outputs": [
        {
          "output_type": "stream",
          "text": [
            "Skipping feature engineering since no feature_engg input...\n",
            "Skipping category encoding since no category encoders specified in input...\n",
            "Loading train data...\n",
            "Shape of your Data Set loaded: (352, 98)\n",
            "Loading test data...\n",
            "    Filename is an empty string or file not able to be loaded\n",
            "############## C L A S S I F Y I N G  V A R I A B L E S  ####################\n",
            "Classifying variables in data set...\n",
            "    97 Predictors classified...\n",
            "        36 variable(s) will be ignored since they are ID or low-information variables\n",
            "GPU active on this device\n",
            "    Running XGBoost using GPU parameters\n",
            "Removing 36 columns from further processing since ID or low information variables\n",
            "    columns removed: ['ALBUMIN_DIFF', 'BE_ARTERIAL_DIFF', 'BE_VENOUS_DIFF', 'BIC_ARTERIAL_DIFF', 'BIC_VENOUS_DIFF', 'BILLIRUBIN_DIFF', 'BLAST_DIFF', 'CALCIUM_DIFF', 'CREATININ_DIFF', 'FFA_DIFF', 'GGT_DIFF', 'GLUCOSE_DIFF', 'HEMATOCRITE_DIFF', 'HEMOGLOBIN_DIFF', 'INR_DIFF', 'LACTATE_DIFF', 'LEUKOCYTES_DIFF', 'LINFOCITOS_DIFF', 'NEUTROPHILES_DIFF', 'P02_ARTERIAL_DIFF', 'P02_VENOUS_DIFF', 'PC02_ARTERIAL_DIFF', 'PC02_VENOUS_DIFF', 'PCR_DIFF', 'PH_ARTERIAL_DIFF', 'PH_VENOUS_DIFF', 'PLATELETS_DIFF', 'POTASSIUM_DIFF', 'SAT02_ARTERIAL_DIFF', 'SAT02_VENOUS_DIFF', 'SODIUM_DIFF', 'TGO_DIFF', 'TGP_DIFF', 'TTPA_DIFF', 'UREA_DIFF', 'DIMER_DIFF']\n",
            "    After removing redundant variables from further processing, features left = 61\n",
            "#### Single_Label Binary_Classification Feature Selection Started ####\n",
            "Searching for highly correlated variables from 61 variables using SULOV method\n",
            "#####  SULOV : Searching for Uncorrelated List Of Variables (takes time...) ############\n",
            "There are no null values in dataset.\n",
            "    Removing (10) highly correlated variables:\n",
            "    ['AGE_PERCENTIL', 'BIC_ARTERIAL_MEDIAN', 'FFA_MEDIAN', 'SAT02_ARTERIAL_MEDIAN', 'SAT02_VENOUS_MEDIAN', 'TGP_MEDIAN', 'BLOODPRESSURE_DIASTOLIC_MEAN', 'RESPIRATORY_RATE_MIN', 'BLOODPRESSURE_SISTOLIC_DIFF', 'HEART_RATE_DIFF_REL']\n"
          ],
          "name": "stdout"
        },
        {
          "output_type": "display_data",
          "data": {
            "image/png": "[encoded data removed]",
            "text/plain": [
              "<Figure size 1080x1440 with 1 Axes>"
            ]
          },
          "metadata": {
            "tags": []
          }
        },
        {
          "output_type": "stream",
          "text": [
            "    Adding 0 categorical variables to reduced numeric variables  of 51\n",
            "############## F E A T U R E   S E L E C T I O N  ####################\n",
            "Current number of predictors = 51 \n",
            "    Finding Important Features using Boosted Trees algorithm...\n",
            "        using 51 variables...\n",
            "Warning: GPU exists but it is not turned on. Using CPU for predictions...\n",
            "        using 41 variables...\n",
            "        using 31 variables...\n",
            "        using 21 variables...\n",
            "        using 11 variables...\n",
            "        using 1 variables...\n",
            "Selected 14 important features from your dataset\n",
            "    Time taken (in seconds) = 1\n",
            "Returning list of 14 important features and dataframe.\n"
          ],
          "name": "stdout"
        }
      ]
    },
    {
      "cell_type": "code",
      "metadata": {
        "id": "UdrsRM9UyU1L"
      },
      "source": [
        "# Gravando as colunas que o FeatureWizz considerou ótimas para filtrar no data frame\n",
        "list_colunas = pd.DataFrame(columns=features_wiz[0])\n",
        "list_colunas['ICU'] = \"\""
      ],
      "execution_count": null,
      "outputs": []
    },
    {
      "cell_type": "markdown",
      "metadata": {
        "id": "tkqmhUQl9Paj"
      },
      "source": [
        "Criando novo dataset com as features selecionadas"
      ]
    },
    {
      "cell_type": "code",
      "metadata": {
        "id": "aqrtf2uM8Id6"
      },
      "source": [
        "# Criando o novo data frame com apenas as features selecionadas pelo FeatureWizz\n",
        "dados_features = dados[list_colunas.columns]"
      ],
      "execution_count": null,
      "outputs": []
    },
    {
      "cell_type": "code",
      "metadata": {
        "colab": {
          "base_uri": "https://localhost:8080/",
          "height": 224
        },
        "id": "7SJ9rV_H8YK0",
        "outputId": "524247ff-f1f2-42ca-ee1d-598a49a613a7"
      },
      "source": [
        "# Olhando os dados do novo data frame\n",
        "dados_features.head()"
      ],
      "execution_count": null,
      "outputs": [
        {
          "output_type": "execute_result",
          "data": {
            "text/html": [
              "<div>\n",
              "<style scoped>\n",
              "    .dataframe tbody tr th:only-of-type {\n",
              "        vertical-align: middle;\n",
              "    }\n",
              "\n",
              "    .dataframe tbody tr th {\n",
              "        vertical-align: top;\n",
              "    }\n",
              "\n",
              "    .dataframe thead th {\n",
              "        text-align: right;\n",
              "    }\n",
              "</style>\n",
              "<table border=\"1\" class=\"dataframe\">\n",
              "  <thead>\n",
              "    <tr style=\"text-align: right;\">\n",
              "      <th></th>\n",
              "      <th>PCR_MEDIAN</th>\n",
              "      <th>HTN</th>\n",
              "      <th>LACTATE_MEDIAN</th>\n",
              "      <th>P02_VENOUS_MEDIAN</th>\n",
              "      <th>UREA_MEDIAN</th>\n",
              "      <th>RESPIRATORY_RATE_MEAN</th>\n",
              "      <th>SODIUM_MEDIAN</th>\n",
              "      <th>GLUCOSE_MEDIAN</th>\n",
              "      <th>AGE_ABOVE65</th>\n",
              "      <th>INR_MEDIAN</th>\n",
              "      <th>BLOODPRESSURE_DIASTOLIC_DIFF</th>\n",
              "      <th>BLOODPRESSURE_DIASTOLIC_MAX</th>\n",
              "      <th>GGT_MEDIAN</th>\n",
              "      <th>HEART_RATE_DIFF</th>\n",
              "      <th>ICU</th>\n",
              "    </tr>\n",
              "  </thead>\n",
              "  <tbody>\n",
              "    <tr>\n",
              "      <th>0</th>\n",
              "      <td>-0.88</td>\n",
              "      <td>0</td>\n",
              "      <td>1.00</td>\n",
              "      <td>-0.70</td>\n",
              "      <td>-0.84</td>\n",
              "      <td>-0.59</td>\n",
              "      <td>-0.03</td>\n",
              "      <td>-0.89</td>\n",
              "      <td>1</td>\n",
              "      <td>-0.93</td>\n",
              "      <td>-1.00</td>\n",
              "      <td>-0.25</td>\n",
              "      <td>-0.95</td>\n",
              "      <td>-1.00</td>\n",
              "      <td>1</td>\n",
              "    </tr>\n",
              "    <tr>\n",
              "      <th>1</th>\n",
              "      <td>-0.94</td>\n",
              "      <td>0</td>\n",
              "      <td>1.00</td>\n",
              "      <td>-0.70</td>\n",
              "      <td>-0.84</td>\n",
              "      <td>-0.65</td>\n",
              "      <td>0.09</td>\n",
              "      <td>-0.78</td>\n",
              "      <td>0</td>\n",
              "      <td>-0.96</td>\n",
              "      <td>-0.55</td>\n",
              "      <td>-0.44</td>\n",
              "      <td>-0.96</td>\n",
              "      <td>-0.60</td>\n",
              "      <td>1</td>\n",
              "    </tr>\n",
              "    <tr>\n",
              "      <th>2</th>\n",
              "      <td>-0.50</td>\n",
              "      <td>0</td>\n",
              "      <td>-0.83</td>\n",
              "      <td>-0.63</td>\n",
              "      <td>-0.94</td>\n",
              "      <td>-0.46</td>\n",
              "      <td>0.20</td>\n",
              "      <td>-0.89</td>\n",
              "      <td>0</td>\n",
              "      <td>-0.96</td>\n",
              "      <td>-1.00</td>\n",
              "      <td>-0.30</td>\n",
              "      <td>-0.32</td>\n",
              "      <td>-1.00</td>\n",
              "      <td>0</td>\n",
              "    </tr>\n",
              "    <tr>\n",
              "      <th>3</th>\n",
              "      <td>-0.99</td>\n",
              "      <td>0</td>\n",
              "      <td>1.00</td>\n",
              "      <td>-0.70</td>\n",
              "      <td>-0.90</td>\n",
              "      <td>-0.59</td>\n",
              "      <td>0.14</td>\n",
              "      <td>-0.85</td>\n",
              "      <td>0</td>\n",
              "      <td>-0.96</td>\n",
              "      <td>-1.00</td>\n",
              "      <td>-0.08</td>\n",
              "      <td>-0.94</td>\n",
              "      <td>-0.92</td>\n",
              "      <td>0</td>\n",
              "    </tr>\n",
              "    <tr>\n",
              "      <th>4</th>\n",
              "      <td>-1.00</td>\n",
              "      <td>0</td>\n",
              "      <td>1.00</td>\n",
              "      <td>-0.70</td>\n",
              "      <td>-0.88</td>\n",
              "      <td>-0.53</td>\n",
              "      <td>0.09</td>\n",
              "      <td>-0.89</td>\n",
              "      <td>0</td>\n",
              "      <td>-0.96</td>\n",
              "      <td>-0.83</td>\n",
              "      <td>-0.25</td>\n",
              "      <td>-0.96</td>\n",
              "      <td>-0.98</td>\n",
              "      <td>0</td>\n",
              "    </tr>\n",
              "  </tbody>\n",
              "</table>\n",
              "</div>"
            ],
            "text/plain": [
              "   PCR_MEDIAN  HTN  LACTATE_MEDIAN  ...  GGT_MEDIAN  HEART_RATE_DIFF  ICU\n",
              "0       -0.88    0            1.00  ...       -0.95            -1.00    1\n",
              "1       -0.94    0            1.00  ...       -0.96            -0.60    1\n",
              "2       -0.50    0           -0.83  ...       -0.32            -1.00    0\n",
              "3       -0.99    0            1.00  ...       -0.94            -0.92    0\n",
              "4       -1.00    0            1.00  ...       -0.96            -0.98    0\n",
              "\n",
              "[5 rows x 15 columns]"
            ]
          },
          "metadata": {
            "tags": []
          },
          "execution_count": 28
        }
      ]
    },
    {
      "cell_type": "markdown",
      "metadata": {
        "id": "RjmBkrrM8swV"
      },
      "source": [
        "## XGBClassifier com featurewiz"
      ]
    },
    {
      "cell_type": "code",
      "metadata": {
        "colab": {
          "base_uri": "https://localhost:8080/"
        },
        "id": "98yuKZdQy1t1",
        "outputId": "5a28b48c-0ef1-4e4a-e1a3-90bacdc7c111"
      },
      "source": [
        "# Rodando a acurácia do modelo XGB com feature wizz\n",
        "testa_acuracia(modelo_xgb,dados_features)"
      ],
      "execution_count": null,
      "outputs": [
        {
          "output_type": "stream",
          "text": [
            "A acurácia do Modelo é de: 73.58 %\n",
            "A AUC é 0.832857\n",
            "\n",
            "Classification Report do modelo:\n",
            "              precision    recall  f1-score   support\n",
            "\n",
            "           0       0.79      0.68      0.73        28\n",
            "           1       0.69      0.80      0.74        25\n",
            "\n",
            "    accuracy                           0.74        53\n",
            "   macro avg       0.74      0.74      0.74        53\n",
            "weighted avg       0.74      0.74      0.74        53\n",
            "\n"
          ],
          "name": "stdout"
        }
      ]
    },
    {
      "cell_type": "code",
      "metadata": {
        "colab": {
          "base_uri": "https://localhost:8080/",
          "height": 432
        },
        "id": "m65Q47yB4aQl",
        "outputId": "594ae542-12cd-4c8e-bfaf-32e747535203"
      },
      "source": [
        "# Rodando a matriz de confusão do modelo XGB com feature wizz\n",
        "matriz_confusao(modelo_xgb,dados_features)"
      ],
      "execution_count": null,
      "outputs": [
        {
          "output_type": "display_data",
          "data": {
            "image/png": "[encoded data removed]",
            "text/plain": [
              "<Figure size 504x504 with 2 Axes>"
            ]
          },
          "metadata": {
            "tags": [],
            "needs_background": "light"
          }
        }
      ]
    },
    {
      "cell_type": "code",
      "metadata": {
        "colab": {
          "base_uri": "https://localhost:8080/"
        },
        "id": "8HNgV-iVCI6Y",
        "outputId": "7e5fcb6b-2a03-48d0-95af-8f24611983c7"
      },
      "source": [
        "# Rodando a cross validation do modelo XGB com feature wizz\n",
        "cross_validation(modelo_xgb,dados_features,5,10)"
      ],
      "execution_count": null,
      "outputs": [
        {
          "output_type": "stream",
          "text": [
            "AUC médio é 0.775283 e o intervalo é 0.686404 - 0.864161\n"
          ],
          "name": "stdout"
        }
      ]
    },
    {
      "cell_type": "markdown",
      "metadata": {
        "id": "fxcgPydY8yxH"
      },
      "source": [
        "## LogisticRegression com featurewiz"
      ]
    },
    {
      "cell_type": "code",
      "metadata": {
        "colab": {
          "base_uri": "https://localhost:8080/"
        },
        "id": "rOWswCo28xeK",
        "outputId": "7433735f-c867-41a9-abc1-08790d589ee0"
      },
      "source": [
        "# Rodando a acurácia do modelo LogisticRegression com feature wizz\n",
        "testa_acuracia(modelo_regressao,dados_features)"
      ],
      "execution_count": null,
      "outputs": [
        {
          "output_type": "stream",
          "text": [
            "A acurácia do Modelo é de: 73.58 %\n",
            "A AUC é 0.862857\n",
            "\n",
            "Classification Report do modelo:\n",
            "              precision    recall  f1-score   support\n",
            "\n",
            "           0       0.77      0.71      0.74        28\n",
            "           1       0.70      0.76      0.73        25\n",
            "\n",
            "    accuracy                           0.74        53\n",
            "   macro avg       0.74      0.74      0.74        53\n",
            "weighted avg       0.74      0.74      0.74        53\n",
            "\n"
          ],
          "name": "stdout"
        }
      ]
    },
    {
      "cell_type": "code",
      "metadata": {
        "colab": {
          "base_uri": "https://localhost:8080/",
          "height": 428
        },
        "id": "_xUOtRmtYbxI",
        "outputId": "0d414be8-0632-45b0-8c87-d011092013ce"
      },
      "source": [
        "# Rodando a matriz de confusão do modelo LogisticRegression com feature wizz\n",
        "matriz_confusao(modelo_regressao,dados_features)"
      ],
      "execution_count": null,
      "outputs": [
        {
          "output_type": "display_data",
          "data": {
            "image/png": "[encoded data removed]",
            "text/plain": [
              "<Figure size 504x504 with 2 Axes>"
            ]
          },
          "metadata": {
            "tags": [],
            "needs_background": "light"
          }
        }
      ]
    },
    {
      "cell_type": "code",
      "metadata": {
        "colab": {
          "base_uri": "https://localhost:8080/"
        },
        "id": "702D7UCR93hk",
        "outputId": "be46512c-b292-4b0d-e7f3-21c10215ff98"
      },
      "source": [
        "# Rodando a cross validation do modelo LogisticRegression com feature wizz\n",
        "cross_validation(modelo_regressao,dados_features,5,10)"
      ],
      "execution_count": null,
      "outputs": [
        {
          "output_type": "stream",
          "text": [
            "AUC médio é 0.779386 e o intervalo é 0.672919 - 0.885853\n"
          ],
          "name": "stdout"
        }
      ]
    },
    {
      "cell_type": "markdown",
      "metadata": {
        "id": "G_CmriWR81M3"
      },
      "source": [
        "## ExtraTreesClassifier com featurewiz"
      ]
    },
    {
      "cell_type": "code",
      "metadata": {
        "colab": {
          "base_uri": "https://localhost:8080/"
        },
        "id": "08uhOceVYk66",
        "outputId": "4af0a7fa-4e48-42c5-93ee-cb39b3f83959"
      },
      "source": [
        "# Rodando a acurácia do modelo ExtraTreesClassifier com feature wizz\n",
        "testa_acuracia(modelo_exc,dados_features)"
      ],
      "execution_count": null,
      "outputs": [
        {
          "output_type": "stream",
          "text": [
            "A acurácia do Modelo é de: 81.13 %\n",
            "A AUC é 0.836429\n",
            "\n",
            "Classification Report do modelo:\n",
            "              precision    recall  f1-score   support\n",
            "\n",
            "           0       0.85      0.79      0.81        28\n",
            "           1       0.78      0.84      0.81        25\n",
            "\n",
            "    accuracy                           0.81        53\n",
            "   macro avg       0.81      0.81      0.81        53\n",
            "weighted avg       0.81      0.81      0.81        53\n",
            "\n"
          ],
          "name": "stdout"
        }
      ]
    },
    {
      "cell_type": "code",
      "metadata": {
        "colab": {
          "base_uri": "https://localhost:8080/",
          "height": 428
        },
        "id": "SqBSAfm_YrDn",
        "outputId": "94b31a3f-be09-4dec-d21e-d257dbef30dc"
      },
      "source": [
        "# Rodando a matriz de confusão do modelo ExtraTreesClassifier com feature wizz\n",
        "matriz_confusao(modelo_exc,dados_features)"
      ],
      "execution_count": null,
      "outputs": [
        {
          "output_type": "display_data",
          "data": {
            "image/png": "[encoded data removed]",
            "text/plain": [
              "<Figure size 504x504 with 2 Axes>"
            ]
          },
          "metadata": {
            "tags": [],
            "needs_background": "light"
          }
        }
      ]
    },
    {
      "cell_type": "code",
      "metadata": {
        "colab": {
          "base_uri": "https://localhost:8080/"
        },
        "id": "6qxv9oC7Ywr-",
        "outputId": "5033ccc8-aa31-4a04-db54-52b20586d42d"
      },
      "source": [
        "# Rodando a cross validation do modelo ExtraTreesClassifier com feature wizz\n",
        "cross_validation(modelo_exc,dados_features,5,10)"
      ],
      "execution_count": null,
      "outputs": [
        {
          "output_type": "stream",
          "text": [
            "AUC médio é 0.784627 e o intervalo é 0.673419 - 0.895835\n"
          ],
          "name": "stdout"
        }
      ]
    },
    {
      "cell_type": "markdown",
      "metadata": {
        "id": "4Wk0N_VviumU"
      },
      "source": [
        "# Conclusão:"
      ]
    },
    {
      "cell_type": "markdown",
      "metadata": {
        "id": "6khgg3Dmi0_e"
      },
      "source": [
        "Scores: \n",
        "\n",
        "![image.png](data:image/png;base64,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)"
      ]
    },
    {
      "cell_type": "markdown",
      "metadata": {
        "id": "mjnE6ZyOi081"
      },
      "source": [
        "Classification Reports:\n",
        "\n",
        "![image.png](data:image/png;base64,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)\n"
      ]
    },
    {
      "cell_type": "markdown",
      "metadata": {
        "id": "3x5S5XyJi04r"
      },
      "source": [
        "A aplicação do Featurewiz para determinar as features importantes com o intuito de melhorar nosso score, demonstra uma equalização nos scores dos modelos e melhora significativa no modelo **XGBClassifier** e no **ExtreesClassifier**. Mas os resultados do **LogisticRegression** parece ser mais constante.\n",
        "\n"
      ]
    },
    {
      "cell_type": "markdown",
      "metadata": {
        "id": "lJd-tVzei0te"
      },
      "source": [
        "Vale a observação, que o dataset disponibilizado pelo Sírio-Libanês, vinha com 230 features, entre elas classificações de doenças, exames de sangue e exames respiratórios. E dentre essas colunas eram 46 categorias de exames unicos que se separavão entre medidas de máximo, minimo, mediana e desvio. \n",
        "\n",
        "Com o a redução de features feita pelo featurewiz, restaram somente 14 no dataset final. Isso é um sinal de que o modelo pode estar enviesado. "
      ]
    },
    {
      "cell_type": "markdown",
      "metadata": {
        "id": "MPn21Ksgll0r"
      },
      "source": [
        "Para concluir nosso as analises feitas com suas devidas limitações técnicas, o modelo **LogisticRegression** se mostrou mais aderente ao estudo proposto.\n",
        "Mostrando melhores scores e classificações.\n",
        "Como opções de melhorias seria voltar o data frame original e melhorar hiperparammetros do modelo ao inves de tirar feature com o featurewiz"
      ]
    },
    {
      "cell_type": "markdown",
      "metadata": {
        "id": "qIH_Xxu3mLlc"
      },
      "source": [
        "# Para futuros estudos:\n",
        "\n",
        "\n",
        "\n",
        "*   É indiscutível a possíbilidade de melhoria do resultado com a inclusão de outras janelas de tempo em que o paciente está no hospital. Sem dispensar uma procura por otimização de hiperparametros do modelo.\n",
        "*   Também é possível buscar melhoria dos resultados se manter pelo menos uma feature de cada categoria de exame, pois assim poderemos ver outros tipos de padrões de resultado de exame que indicam uma piora do paciente com COVID.\n",
        "\n"
      ]
    }
  ]
}